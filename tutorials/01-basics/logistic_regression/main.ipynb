{
 "cells": [
  {
   "cell_type": "code",
   "execution_count": 1,
   "metadata": {},
   "outputs": [],
   "source": [
    "import torch\n",
    "import torch.nn as nn\n",
    "import torchvision\n",
    "import torchvision.transforms as transforms"
   ]
  },
  {
   "cell_type": "code",
   "execution_count": 8,
   "metadata": {},
   "outputs": [],
   "source": [
    "input_size = 28 * 28\n",
    "num_classes = 10\n",
    "num_epochs = 5\n",
    "batch_size = 100\n",
    "learning_rate = 0.001"
   ]
  },
  {
   "cell_type": "code",
   "execution_count": 20,
   "metadata": {},
   "outputs": [],
   "source": [
    "train_datasets = torchvision.datasets.MNIST(root = '../../data',\n",
    "                                            train = True,\n",
    "                                            transform = transforms.ToTensor(),\n",
    "                                            download = True)\n",
    "test_datasets = torchvision.datasets.MNIST(root = '../../data',\n",
    "                                           train = False,\n",
    "                                           transform = transforms.ToTensor())"
   ]
  },
  {
   "cell_type": "code",
   "execution_count": 21,
   "metadata": {},
   "outputs": [],
   "source": [
    "train_loader = torch.utils.data.DataLoader(dataset = train_datasets,\n",
    "                                           batch_size = batch_size,\n",
    "                                           shuffle = True)\n",
    "test_loader = torch.utils.data.DataLoader(dataset = test_datasets,\n",
    "                                          batch_size = batch_size,\n",
    "                                          shuffle = False)"
   ]
  },
  {
   "cell_type": "code",
   "execution_count": 10,
   "metadata": {},
   "outputs": [],
   "source": [
    "#Logistic regression model\n",
    "model = nn.Linear(input_size, num_classes)\n",
    "criterion = nn.CrossEntropyLoss()\n",
    "optimizer = torch.optim.SGD(model.parameters(),lr = learning_rate)"
   ]
  },
  {
   "cell_type": "code",
   "execution_count": 28,
   "metadata": {
    "scrolled": true
   },
   "outputs": [
    {
     "name": "stdout",
     "output_type": "stream",
     "text": [
      "Epoch[1/5], Step[100/600], Loss: 0.6424\n",
      "Epoch[1/5], Step[200/600], Loss: 0.5271\n",
      "Epoch[1/5], Step[300/600], Loss: 0.6779\n",
      "Epoch[1/5], Step[400/600], Loss: 0.5017\n",
      "Epoch[1/5], Step[500/600], Loss: 0.7800\n",
      "Epoch[1/5], Step[600/600], Loss: 0.5919\n",
      "Epoch[2/5], Step[100/600], Loss: 0.6149\n",
      "Epoch[2/5], Step[200/600], Loss: 0.5121\n",
      "Epoch[2/5], Step[300/600], Loss: 0.5858\n",
      "Epoch[2/5], Step[400/600], Loss: 0.5411\n",
      "Epoch[2/5], Step[500/600], Loss: 0.6205\n",
      "Epoch[2/5], Step[600/600], Loss: 0.6159\n",
      "Epoch[3/5], Step[100/600], Loss: 0.5916\n",
      "Epoch[3/5], Step[200/600], Loss: 0.6118\n",
      "Epoch[3/5], Step[300/600], Loss: 0.6723\n",
      "Epoch[3/5], Step[400/600], Loss: 0.5173\n",
      "Epoch[3/5], Step[500/600], Loss: 0.6007\n",
      "Epoch[3/5], Step[600/600], Loss: 0.6290\n",
      "Epoch[4/5], Step[100/600], Loss: 0.5406\n",
      "Epoch[4/5], Step[200/600], Loss: 0.4791\n",
      "Epoch[4/5], Step[300/600], Loss: 0.6700\n",
      "Epoch[4/5], Step[400/600], Loss: 0.5087\n",
      "Epoch[4/5], Step[500/600], Loss: 0.5580\n",
      "Epoch[4/5], Step[600/600], Loss: 0.5397\n",
      "Epoch[5/5], Step[100/600], Loss: 0.6703\n",
      "Epoch[5/5], Step[200/600], Loss: 0.5945\n",
      "Epoch[5/5], Step[300/600], Loss: 0.4863\n",
      "Epoch[5/5], Step[400/600], Loss: 0.5504\n",
      "Epoch[5/5], Step[500/600], Loss: 0.5961\n",
      "Epoch[5/5], Step[600/600], Loss: 0.4955\n"
     ]
    }
   ],
   "source": [
    "#Train the model\n",
    "total_step  = len(train_loader)\n",
    "for epoch in range(num_epochs):\n",
    "    for i, (images, labels) in enumerate(train_loader):\n",
    "        images = images.reshape(-1, input_size)\n",
    "        outputs = model(images)\n",
    "        loss = criterion(outputs, labels)\n",
    "        optimizer.zero_grad()\n",
    "        loss.backward()\n",
    "        optimizer.step()\n",
    "        \n",
    "        if (i+1)%100 == 0:\n",
    "            print('Epoch[{}/{}], Step[{}/{}], Loss: {:.4f}'.format(epoch+1, num_epochs, i+1, total_step, loss.item()))"
   ]
  },
  {
   "cell_type": "code",
   "execution_count": 29,
   "metadata": {},
   "outputs": [
    {
     "name": "stdout",
     "output_type": "stream",
     "text": [
      "Accuracy of the model on the 10000 test images: 87 %\n"
     ]
    }
   ],
   "source": [
    "with torch.no_grad():\n",
    "    correct = 0\n",
    "    total = 0\n",
    "    for images, labels in test_loader:\n",
    "        \n",
    "        images = images.reshape(-1, input_size)\n",
    "        outputs = model(images)\n",
    "        _, predicted = torch.max(outputs.data, 1)\n",
    "        total += labels.size(0)\n",
    "        correct += (predicted == labels).sum()\n",
    "\n",
    "    print('Accuracy of the model on the 10000 test images: {} %'.format(100 * correct / total))\n"
   ]
  },
  {
   "cell_type": "code",
   "execution_count": 30,
   "metadata": {},
   "outputs": [],
   "source": [
    "torch.save(model.state_dict(), 'model.ckpt')"
   ]
  }
 ],
 "metadata": {
  "kernelspec": {
   "display_name": "Python [conda env:pt1.0]",
   "language": "python",
   "name": "conda-env-pt1.0-py"
  },
  "language_info": {
   "codemirror_mode": {
    "name": "ipython",
    "version": 3
   },
   "file_extension": ".py",
   "mimetype": "text/x-python",
   "name": "python",
   "nbconvert_exporter": "python",
   "pygments_lexer": "ipython3",
   "version": "3.6.10"
  }
 },
 "nbformat": 4,
 "nbformat_minor": 4
}
