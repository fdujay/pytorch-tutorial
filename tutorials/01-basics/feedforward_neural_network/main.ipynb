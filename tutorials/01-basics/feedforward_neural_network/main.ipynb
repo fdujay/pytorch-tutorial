{
 "cells": [
  {
   "cell_type": "code",
   "execution_count": 10,
   "metadata": {},
   "outputs": [],
   "source": [
    "import torch \n",
    "import torch.nn as nn\n",
    "import torchvision\n",
    "import torchvision.transforms as transforms"
   ]
  },
  {
   "cell_type": "code",
   "execution_count": 9,
   "metadata": {},
   "outputs": [],
   "source": [
    "device = torch.device('cuda')"
   ]
  },
  {
   "cell_type": "code",
   "execution_count": 8,
   "metadata": {},
   "outputs": [],
   "source": [
    "input_size = 784\n",
    "hidden_size = 500\n",
    "num_classes = 10\n",
    "num_epochs = 5\n",
    "batch_size = 100\n",
    "learning_rate = 0.001"
   ]
  },
  {
   "cell_type": "code",
   "execution_count": 5,
   "metadata": {},
   "outputs": [],
   "source": [
    "train_dataset = torchvision.datasets.MNIST(root = '../../data',\n",
    "                                           train = True,\n",
    "                                           transform = transforms.ToTensor(),\n",
    "                                           download = True)\n",
    "test_dataset = torchvision.datasets.MNIST(root = '../../data',\n",
    "                                          train = False,\n",
    "                                          transform = transforms.ToTensor())"
   ]
  },
  {
   "cell_type": "code",
   "execution_count": 7,
   "metadata": {},
   "outputs": [],
   "source": [
    "train_loader = torch.utils.data.DataLoader(dataset = train_dataset,\n",
    "                                           batch_size = batch_size,\n",
    "                                           shuffle = True)\n",
    "test_loader = torch.utils.data.DataLoader(dataset = test_dataset,\n",
    "                                         batch_size = batch_size,\n",
    "                                         shuffle = False)"
   ]
  },
  {
   "cell_type": "code",
   "execution_count": 11,
   "metadata": {},
   "outputs": [],
   "source": [
    "class NeuralNet(nn.Module):\n",
    "    def __init__(self, input_size, hidden_size, num_classes):\n",
    "        super(NeuralNet, self).__init__()\n",
    "        self.fc1 = nn.Linear(input_size, hidden_size)\n",
    "        self.relu = nn.ReLU()\n",
    "        self.fc2 = nn.Linear(hidden_size, num_classes)\n",
    "        \n",
    "    def forward(self, x):\n",
    "        out = self.fc1(x)\n",
    "        out = self.relu(out)\n",
    "        out = self.fc2(out)\n",
    "        return out\n",
    "        "
   ]
  },
  {
   "cell_type": "code",
   "execution_count": 12,
   "metadata": {},
   "outputs": [],
   "source": [
    "model = NeuralNet(input_size, hidden_size, num_classes).to(device)\n",
    "criterion = nn.CrossEntropyLoss()\n",
    "optimizer = torch.optim.Adam(model.parameters(),lr = learning_rate)\n"
   ]
  },
  {
   "cell_type": "code",
   "execution_count": 14,
   "metadata": {},
   "outputs": [
    {
     "name": "stdout",
     "output_type": "stream",
     "text": [
      "Epoch [1/5], Step [100/600], Loss: 0.3526\n",
      "Epoch [1/5], Step [200/600], Loss: 0.2495\n",
      "Epoch [1/5], Step [300/600], Loss: 0.1692\n",
      "Epoch [1/5], Step [400/600], Loss: 0.1190\n",
      "Epoch [1/5], Step [500/600], Loss: 0.2331\n",
      "Epoch [1/5], Step [600/600], Loss: 0.2408\n",
      "Epoch [2/5], Step [100/600], Loss: 0.1191\n",
      "Epoch [2/5], Step [200/600], Loss: 0.1492\n",
      "Epoch [2/5], Step [300/600], Loss: 0.1530\n",
      "Epoch [2/5], Step [400/600], Loss: 0.0829\n",
      "Epoch [2/5], Step [500/600], Loss: 0.1167\n",
      "Epoch [2/5], Step [600/600], Loss: 0.0675\n",
      "Epoch [3/5], Step [100/600], Loss: 0.1041\n",
      "Epoch [3/5], Step [200/600], Loss: 0.0482\n",
      "Epoch [3/5], Step [300/600], Loss: 0.0290\n",
      "Epoch [3/5], Step [400/600], Loss: 0.1786\n",
      "Epoch [3/5], Step [500/600], Loss: 0.0664\n",
      "Epoch [3/5], Step [600/600], Loss: 0.0469\n",
      "Epoch [4/5], Step [100/600], Loss: 0.0278\n",
      "Epoch [4/5], Step [200/600], Loss: 0.0343\n",
      "Epoch [4/5], Step [300/600], Loss: 0.0425\n",
      "Epoch [4/5], Step [400/600], Loss: 0.0866\n",
      "Epoch [4/5], Step [500/600], Loss: 0.0154\n",
      "Epoch [4/5], Step [600/600], Loss: 0.0523\n",
      "Epoch [5/5], Step [100/600], Loss: 0.0480\n",
      "Epoch [5/5], Step [200/600], Loss: 0.0242\n",
      "Epoch [5/5], Step [300/600], Loss: 0.0620\n",
      "Epoch [5/5], Step [400/600], Loss: 0.0138\n",
      "Epoch [5/5], Step [500/600], Loss: 0.0999\n",
      "Epoch [5/5], Step [600/600], Loss: 0.0247\n"
     ]
    }
   ],
   "source": [
    "total = len(train_loader)\n",
    "for epoch in range(num_epochs):\n",
    "    for i, (images, labels) in enumerate(train_loader):\n",
    "        images= images.reshape(-1, 28*28).to(device)\n",
    "        labels = labels.to(device)\n",
    "        outputs = model(images)\n",
    "        loss = criterion(outputs, labels)\n",
    "        optimizer.zero_grad()\n",
    "        loss.backward()\n",
    "        optimizer.step()\n",
    "        \n",
    "        if (i+1)%100 == 0:\n",
    "            print('Epoch [{}/{}], Step [{}/{}], Loss: {:.4f}'\n",
    "                  .format(epoch+1, num_epochs, i+1, total_step, loss.item()))"
   ]
  },
  {
   "cell_type": "code",
   "execution_count": 22,
   "metadata": {},
   "outputs": [
    {
     "name": "stdout",
     "output_type": "stream",
     "text": [
      "Accuracy of the network on the 10000 test images: 97.96%\n"
     ]
    }
   ],
   "source": [
    "with torch.no_grad():\n",
    "    correct = 0\n",
    "    total = 0\n",
    "    for images, labels in test_loader:\n",
    "        images = images.reshape(-1, 28*28).to(device)\n",
    "        labels = labels.to(device)\n",
    "        outputs = model(images)\n",
    "        _, predicted = torch.max(outputs.data, 1)\n",
    "        total += labels.size(0)\n",
    "        correct += (predicted == labels).sum().item()\n",
    "    print('Accuracy of the network on the 10000 test images: {}%'.format(100*correct/total))\n"
   ]
  },
  {
   "cell_type": "code",
   "execution_count": 23,
   "metadata": {},
   "outputs": [],
   "source": [
    "torch.save(model.state_dict(),'model.ckpt')"
   ]
  }
 ],
 "metadata": {
  "kernelspec": {
   "display_name": "Python [conda env:pt1.0]",
   "language": "python",
   "name": "conda-env-pt1.0-py"
  },
  "language_info": {
   "codemirror_mode": {
    "name": "ipython",
    "version": 3
   },
   "file_extension": ".py",
   "mimetype": "text/x-python",
   "name": "python",
   "nbconvert_exporter": "python",
   "pygments_lexer": "ipython3",
   "version": "3.6.10"
  }
 },
 "nbformat": 4,
 "nbformat_minor": 4
}
