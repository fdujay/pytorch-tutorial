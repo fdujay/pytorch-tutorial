{
 "cells": [
  {
   "cell_type": "code",
   "execution_count": 24,
   "metadata": {},
   "outputs": [
    {
     "name": "stdout",
     "output_type": "stream",
     "text": [
      "tensor(2.)\n",
      "tensor(1.)\n",
      "tensor(1.)\n",
      "w:  Parameter containing:\n",
      "tensor([[-0.2824, -0.0068, -0.4282],\n",
      "        [ 0.1234, -0.5149, -0.4920]], requires_grad=True)\n",
      "b:  Parameter containing:\n",
      "tensor([-0.0048, -0.2979], requires_grad=True)\n",
      "loss:  1.5721266269683838\n",
      "dL/dw:  tensor([[-0.0966,  0.4591, -0.5252],\n",
      "        [ 0.1795, -0.3345, -0.5815]])\n",
      "dL/db:  tensor([-0.3996, -1.1350])\n",
      "loss after 1 step optimization:  1.5480588674545288\n"
     ]
    }
   ],
   "source": [
    "import torch\n",
    "import torchvision\n",
    "import torch.nn as nn\n",
    "import numpy as np\n",
    "import torchvision.transforms as transforms\n",
    "\n",
    "x = torch.tensor(1.,requires_grad=True)\n",
    "w = torch.tensor(2.,requires_grad=True)\n",
    "b = torch.tensor(3.,requires_grad=True)\n",
    "y = w * x + b\n",
    "y.backward()\n",
    "\n",
    "print(x.grad)\n",
    "print(w.grad)\n",
    "print(b.grad)\n",
    "\n",
    "x = torch.randn(10,3)\n",
    "y = torch.randn(10,2)\n",
    "\n",
    "linear = nn.Linear(3, 2)\n",
    "print('w: ',linear.weight)\n",
    "print('b: ',linear.bias)\n",
    "\n",
    "criterion = nn.MSELoss()\n",
    "optimizer = torch.optim.SGD(linear.parameters(), lr = 0.01)\n",
    "\n",
    "pred = linear(x)\n",
    "loss = criterion(pred, y)\n",
    "print('loss: ',loss.item())\n",
    "loss.backward()\n",
    "print('dL/dw: ',linear.weight.grad)\n",
    "print('dL/db: ',linear.bias.grad)\n",
    "\n",
    "optimizer.step()\n",
    "\n",
    "pred = linear(x)\n",
    "loss = criterion(pred,y)\n",
    "print('loss after 1 step optimization: ',loss.item())"
   ]
  },
  {
   "cell_type": "code",
   "execution_count": 28,
   "metadata": {},
   "outputs": [],
   "source": [
    "x = np.array([[1,2],[3,4]])\n",
    "y = torch.from_numpy(x)\n",
    "z = y.numpy()"
   ]
  },
  {
   "cell_type": "code",
   "execution_count": 33,
   "metadata": {},
   "outputs": [
    {
     "name": "stdout",
     "output_type": "stream",
     "text": [
      "Files already downloaded and verified\n",
      "torch.Size([3, 32, 32])\n",
      "9\n"
     ]
    }
   ],
   "source": [
    "train_dataset = torchvision.datasets.CIFAR10(root='../../data/',\n",
    "                                            train=True,\n",
    "                                            transform=transforms.ToTensor(),\n",
    "                                            download=True)\n",
    "image, label = train_dataset[1]\n",
    "print(image.size())\n",
    "print(label)"
   ]
  },
  {
   "cell_type": "code",
   "execution_count": 34,
   "metadata": {},
   "outputs": [],
   "source": [
    "train_loader = torch.utils.data.DataLoader(dataset=train_dataset,\n",
    "                                          batch_size = 64,\n",
    "                                          shuffle = True)"
   ]
  },
  {
   "cell_type": "code",
   "execution_count": 35,
   "metadata": {},
   "outputs": [],
   "source": [
    "data_iter = iter(train_loader)\n",
    "images, labels = data_iter.next()"
   ]
  },
  {
   "cell_type": "code",
   "execution_count": 40,
   "metadata": {},
   "outputs": [
    {
     "name": "stderr",
     "output_type": "stream",
     "text": [
      "Downloading: \"https://download.pytorch.org/models/resnet152-b121ed2d.pth\" to /home/davis/.torch/models/resnet152-b121ed2d.pth\n",
      "100.0%\n"
     ]
    },
    {
     "name": "stdout",
     "output_type": "stream",
     "text": [
      "torch.Size([64, 100])\n"
     ]
    }
   ],
   "source": [
    "resnet = torchvision.models.resnet152(pretrained = True)\n",
    "for param in resnet.parameters():\n",
    "    param.requires_grad = False\n",
    "    \n",
    "resnet.fc = nn.Linear(resnet.fc.in_features, 100)\n",
    "images = torch.randn(64,3,224,224)\n",
    "outputs = resnet(images)\n",
    "print(outputs.size())"
   ]
  }
 ],
 "metadata": {
  "kernelspec": {
   "display_name": "Python [conda env:pt1.0] *",
   "language": "python",
   "name": "conda-env-pt1.0-py"
  },
  "language_info": {
   "codemirror_mode": {
    "name": "ipython",
    "version": 3
   },
   "file_extension": ".py",
   "mimetype": "text/x-python",
   "name": "python",
   "nbconvert_exporter": "python",
   "pygments_lexer": "ipython3",
   "version": "3.6.10"
  }
 },
 "nbformat": 4,
 "nbformat_minor": 4
}
