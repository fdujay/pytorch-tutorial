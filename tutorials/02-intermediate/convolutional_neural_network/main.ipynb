{
 "cells": [
  {
   "cell_type": "code",
   "execution_count": 1,
   "metadata": {},
   "outputs": [],
   "source": [
    "import torch\n",
    "import torch.nn as nn\n",
    "import torchvision\n",
    "import torchvision.transforms as transforms"
   ]
  },
  {
   "cell_type": "code",
   "execution_count": 13,
   "metadata": {},
   "outputs": [],
   "source": [
    "device = torch.device('cuda' if torch.cuda.is_available() else 'cpu')"
   ]
  },
  {
   "cell_type": "code",
   "execution_count": 12,
   "metadata": {},
   "outputs": [
    {
     "data": {
      "text/plain": [
       "device(type='cuda')"
      ]
     },
     "execution_count": 12,
     "metadata": {},
     "output_type": "execute_result"
    }
   ],
   "source": [
    "device"
   ]
  },
  {
   "cell_type": "code",
   "execution_count": 3,
   "metadata": {},
   "outputs": [],
   "source": [
    "num_epochs = 5\n",
    "num_classes = 10\n",
    "batch_size = 100\n",
    "learning_rate = 0.001"
   ]
  },
  {
   "cell_type": "code",
   "execution_count": 4,
   "metadata": {},
   "outputs": [],
   "source": [
    "train_datasets = torchvision.datasets.MNIST(root = '../../data/',\n",
    "                                            train = True,\n",
    "                                            transform = transforms.ToTensor(),\n",
    "                                            download = True)\n",
    "test_datasets = torchvision.datasets.MNIST(root = '../../data/',\n",
    "                                           train = False,\n",
    "                                           transform = transforms.ToTensor())"
   ]
  },
  {
   "cell_type": "code",
   "execution_count": 5,
   "metadata": {},
   "outputs": [],
   "source": [
    "train_loader = torch.utils.data.DataLoader(dataset = train_datasets,\n",
    "                                           batch_size = batch_size,\n",
    "                                           shuffle = True)\n",
    "test_loader = torch.utils.data.DataLoader(dataset = test_datasets,\n",
    "                                           batch_size = batch_size,\n",
    "                                           shuffle = False)"
   ]
  },
  {
   "cell_type": "code",
   "execution_count": 17,
   "metadata": {},
   "outputs": [],
   "source": [
    "class ConvNet(nn.Module):\n",
    "    def __init__(self, num_classes = 10):\n",
    "        super(ConvNet, self).__init__()\n",
    "        self.layer1 = nn.Sequential(\n",
    "            nn.Conv2d(1,16,kernel_size=5, stride=1, padding=2),\n",
    "            nn.BatchNorm2d(16),\n",
    "            nn.ReLU(),\n",
    "            nn.MaxPool2d(kernel_size=2, stride = 2))\n",
    "        self.layer2 = nn.Sequential(\n",
    "            nn.Conv2d(16,32,kernel_size=5, stride=1, padding=2),\n",
    "            nn.BatchNorm2d(32),\n",
    "            nn.ReLU(),\n",
    "            nn.MaxPool2d(kernel_size=2, stride = 2))\n",
    "        self.fc = nn.Linear(7*7*32, num_classes)\n",
    "\n",
    "    def forward(self, x):\n",
    "        out = self.layer1(x)\n",
    "        out = self.layer2(out)\n",
    "        out = out.reshape(out.size(0), -1)\n",
    "        out = self.fc(out)\n",
    "        return out"
   ]
  },
  {
   "cell_type": "code",
   "execution_count": 7,
   "metadata": {},
   "outputs": [],
   "source": [
    "model = ConvNet(num_classes).to(device)"
   ]
  },
  {
   "cell_type": "code",
   "execution_count": 8,
   "metadata": {},
   "outputs": [],
   "source": [
    "criterion = nn.CrossEntropyLoss()\n",
    "optimizer = torch.optim.Adam(model.parameters(),lr = learning_rate)"
   ]
  },
  {
   "cell_type": "code",
   "execution_count": 21,
   "metadata": {},
   "outputs": [
    {
     "name": "stdout",
     "output_type": "stream",
     "text": [
      "Epoch[1/5], Step[100/600], Loss: 0.0044\n",
      "Epoch[1/5], Step[200/600], Loss: 0.0151\n",
      "Epoch[1/5], Step[300/600], Loss: 0.0290\n",
      "Epoch[1/5], Step[400/600], Loss: 0.0397\n",
      "Epoch[1/5], Step[500/600], Loss: 0.0166\n",
      "Epoch[1/5], Step[600/600], Loss: 0.0202\n",
      "Epoch[2/5], Step[100/600], Loss: 0.0230\n",
      "Epoch[2/5], Step[200/600], Loss: 0.0037\n",
      "Epoch[2/5], Step[300/600], Loss: 0.0007\n",
      "Epoch[2/5], Step[400/600], Loss: 0.0054\n",
      "Epoch[2/5], Step[500/600], Loss: 0.0076\n",
      "Epoch[2/5], Step[600/600], Loss: 0.0242\n",
      "Epoch[3/5], Step[100/600], Loss: 0.0030\n",
      "Epoch[3/5], Step[200/600], Loss: 0.0163\n",
      "Epoch[3/5], Step[300/600], Loss: 0.0194\n",
      "Epoch[3/5], Step[400/600], Loss: 0.0125\n",
      "Epoch[3/5], Step[500/600], Loss: 0.0059\n",
      "Epoch[3/5], Step[600/600], Loss: 0.0898\n",
      "Epoch[4/5], Step[100/600], Loss: 0.0057\n",
      "Epoch[4/5], Step[200/600], Loss: 0.0074\n",
      "Epoch[4/5], Step[300/600], Loss: 0.0011\n",
      "Epoch[4/5], Step[400/600], Loss: 0.0013\n",
      "Epoch[4/5], Step[500/600], Loss: 0.0055\n",
      "Epoch[4/5], Step[600/600], Loss: 0.0088\n",
      "Epoch[5/5], Step[100/600], Loss: 0.0033\n",
      "Epoch[5/5], Step[200/600], Loss: 0.0012\n",
      "Epoch[5/5], Step[300/600], Loss: 0.0241\n",
      "Epoch[5/5], Step[400/600], Loss: 0.0003\n",
      "Epoch[5/5], Step[500/600], Loss: 0.0058\n",
      "Epoch[5/5], Step[600/600], Loss: 0.0008\n"
     ]
    }
   ],
   "source": [
    "total_step = len(train_loader)\n",
    "for epoch in range(num_epochs):\n",
    "    for i, (images,labels) in enumerate(train_loader):\n",
    "        images = images.to(device)\n",
    "        labels = labels.to(device)\n",
    "        \n",
    "        outputs = model(images)\n",
    "        loss = criterion(outputs, labels)\n",
    "        \n",
    "        optimizer.zero_grad()\n",
    "        loss.backward()\n",
    "        optimizer.step()\n",
    "        \n",
    "        if (i+1)%100 ==0:\n",
    "            print('Epoch[{}/{}], Step[{}/{}], Loss: {:.4f}'\n",
    "                  .format(epoch+1, num_epochs, i+1, total_step, loss.item()))"
   ]
  },
  {
   "cell_type": "code",
   "execution_count": 22,
   "metadata": {},
   "outputs": [
    {
     "name": "stdout",
     "output_type": "stream",
     "text": [
      "Test Accuracy of the model on the 10000 test images: 99.07%\n"
     ]
    }
   ],
   "source": [
    "model.eval()\n",
    "with torch.no_grad():\n",
    "    correct = 0\n",
    "    total = 0\n",
    "    for images, labels in test_loader:\n",
    "        images = images.to(device)\n",
    "        labels = labels.to(device)\n",
    "        outputs = model(images)\n",
    "        _, predicted = torch.max(outputs.data, 1)\n",
    "        total += labels.size(0)\n",
    "        correct += (predicted == labels).sum().item()\n",
    "        \n",
    "    print('Test Accuracy of the model on the 10000 test images: {}%'.format(100*correct/total))"
   ]
  },
  {
   "cell_type": "code",
   "execution_count": 23,
   "metadata": {},
   "outputs": [],
   "source": [
    "torch.save(model.state_dict(), 'model.ckpt')"
   ]
  }
 ],
 "metadata": {
  "kernelspec": {
   "display_name": "Python [conda env:pt1.0]",
   "language": "python",
   "name": "conda-env-pt1.0-py"
  },
  "language_info": {
   "codemirror_mode": {
    "name": "ipython",
    "version": 3
   },
   "file_extension": ".py",
   "mimetype": "text/x-python",
   "name": "python",
   "nbconvert_exporter": "python",
   "pygments_lexer": "ipython3",
   "version": "3.6.10"
  }
 },
 "nbformat": 4,
 "nbformat_minor": 4
}
